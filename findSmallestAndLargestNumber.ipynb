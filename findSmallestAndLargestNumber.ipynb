{
  "nbformat": 4,
  "nbformat_minor": 0,
  "metadata": {
    "colab": {
      "name": "Untitled3.ipynb",
      "provenance": [],
      "authorship_tag": "ABX9TyPh7YUdyFsv+gHacmwuvOYZ",
      "include_colab_link": true
    },
    "kernelspec": {
      "name": "python3",
      "display_name": "Python 3"
    },
    "language_info": {
      "name": "python"
    }
  },
  "cells": [
    {
      "cell_type": "markdown",
      "metadata": {
        "id": "view-in-github",
        "colab_type": "text"
      },
      "source": [
        "<a href=\"https://colab.research.google.com/github/ratan54/My-First-Project/blob/master/findSmallestAndLargestNumber.ipynb\" target=\"_parent\"><img src=\"https://colab.research.google.com/assets/colab-badge.svg\" alt=\"Open In Colab\"/></a>"
      ]
    },
    {
      "cell_type": "markdown",
      "metadata": {
        "id": "Lu-M5C8-UPcY"
      },
      "source": [
        "Code to find largest and smallest number inputted by User. If user inputs string it will ask user to enter valid number. To stop feeding the input user need to type in input as 'done' or 'Done'"
      ]
    },
    {
      "cell_type": "code",
      "metadata": {
        "id": "YhsPO1NRcsgx",
        "colab": {
          "base_uri": "https://localhost:8080/"
        },
        "outputId": "2f3c711d-3ef3-47cd-955a-7d3a887d87a8"
      },
      "source": [
        "smallest = None\n",
        "largest = None\n",
        "\n",
        "while True:\n",
        "    num = input('Enter Number:')\n",
        "    if num == 'done' or num=='Done':\n",
        "        break\n",
        "    try:\n",
        "        inum = int(num)\n",
        "    except:\n",
        "        print('\\nEnter a valid Number')\n",
        "        continue\n",
        "    \n",
        "    if smallest == None:\n",
        "        smallest = inum\n",
        "    elif inum < smallest:\n",
        "        smallest = inum\n",
        "    \n",
        "    if largest == None:\n",
        "        largest = inum\n",
        "    elif inum > largest:\n",
        "        largest = inum\n",
        "        \n",
        "print('\\nThe largest number is', largest)\n",
        "print('The smallest number is', smallest)\n",
        "\n"
      ],
      "execution_count": 1,
      "outputs": [
        {
          "output_type": "stream",
          "text": [
            "Enter Number:10\n",
            "Enter Number:20\n",
            "Enter Number:9\n",
            "Enter Number:base\n",
            "\n",
            "Enter a valid Number\n",
            "Enter Number:done\n",
            "\n",
            "The largest number is 20\n",
            "The smallest number is 9\n"
          ],
          "name": "stdout"
        }
      ]
    }
  ]
}